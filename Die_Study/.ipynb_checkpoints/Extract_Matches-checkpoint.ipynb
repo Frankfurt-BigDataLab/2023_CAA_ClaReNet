{
 "cells": [
  {
   "cell_type": "code",
   "execution_count": 1,
   "id": "0733dd21-bd95-46ba-a03c-1436603403ee",
   "metadata": {},
   "outputs": [],
   "source": [
    "from matcher import extract_matches_in_directory"
   ]
  },
  {
   "cell_type": "markdown",
   "id": "8c7207cb-cded-419a-889d-a6aee2a2905d",
   "metadata": {},
   "source": [
    "#### Use this notebook to extract all matches in a directory. Please make sure the directory contains only images."
   ]
  },
  {
   "cell_type": "code",
   "execution_count": 2,
   "id": "2da71461-0c61-4283-8a50-61296f43fc9b",
   "metadata": {},
   "outputs": [],
   "source": [
    "directory = \"output/Filter4/\""
   ]
  },
  {
   "cell_type": "code",
   "execution_count": 3,
   "id": "e339f8a0-8acb-4c57-8510-19dbd05b216b",
   "metadata": {},
   "outputs": [],
   "source": [
    "df = extract_matches_in_directory(directory)"
   ]
  },
  {
   "cell_type": "code",
   "execution_count": 4,
   "id": "b842ee17-a952-4d78-8b40-d16acb9d4943",
   "metadata": {},
   "outputs": [
    {
     "data": {
      "text/html": [
       "<div>\n",
       "<style scoped>\n",
       "    .dataframe tbody tr th:only-of-type {\n",
       "        vertical-align: middle;\n",
       "    }\n",
       "\n",
       "    .dataframe tbody tr th {\n",
       "        vertical-align: top;\n",
       "    }\n",
       "\n",
       "    .dataframe thead th {\n",
       "        text-align: right;\n",
       "    }\n",
       "</style>\n",
       "<table border=\"1\" class=\"dataframe\">\n",
       "  <thead>\n",
       "    <tr style=\"text-align: right;\">\n",
       "      <th></th>\n",
       "      <th>CATII-H-34463A.JPG</th>\n",
       "      <th>CATII-H-31484A.JPG</th>\n",
       "    </tr>\n",
       "  </thead>\n",
       "  <tbody>\n",
       "    <tr>\n",
       "      <th>CATII-H-31484A.JPG</th>\n",
       "      <td>30.0</td>\n",
       "      <td>0.0</td>\n",
       "    </tr>\n",
       "    <tr>\n",
       "      <th>CATII-H-34463A.JPG</th>\n",
       "      <td>0.0</td>\n",
       "      <td>30.0</td>\n",
       "    </tr>\n",
       "  </tbody>\n",
       "</table>\n",
       "</div>"
      ],
      "text/plain": [
       "                    CATII-H-34463A.JPG  CATII-H-31484A.JPG\n",
       "CATII-H-31484A.JPG                30.0                 0.0\n",
       "CATII-H-34463A.JPG                 0.0                30.0"
      ]
     },
     "execution_count": 4,
     "metadata": {},
     "output_type": "execute_result"
    }
   ],
   "source": [
    "df.head(5)"
   ]
  },
  {
   "cell_type": "code",
   "execution_count": 5,
   "id": "8893ddd6-2a69-4526-8f0f-281340d13484",
   "metadata": {},
   "outputs": [],
   "source": [
    "# The methods use the filenames as information. If avaible the ground truth can be added to the table.\n",
    "df.to_csv(\"table_with_matches.csv\")"
   ]
  }
 ],
 "metadata": {
  "kernelspec": {
   "display_name": "Python 3 (ipykernel)",
   "language": "python",
   "name": "python3"
  },
  "language_info": {
   "codemirror_mode": {
    "name": "ipython",
    "version": 3
   },
   "file_extension": ".py",
   "mimetype": "text/x-python",
   "name": "python",
   "nbconvert_exporter": "python",
   "pygments_lexer": "ipython3",
   "version": "3.8.13"
  }
 },
 "nbformat": 4,
 "nbformat_minor": 5
}
